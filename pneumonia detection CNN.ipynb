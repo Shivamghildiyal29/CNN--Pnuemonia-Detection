{
 "cells": [
  {
   "cell_type": "markdown",
   "metadata": {},
   "source": [
    "### Image classification using CNN for pnuemonia dataset(kaggle)"
   ]
  },
  {
   "cell_type": "code",
   "execution_count": 19,
   "metadata": {},
   "outputs": [],
   "source": [
    "# importing the libraries as shown below\n",
    "from tensorflow.keras.layers import Input, Lambda, Dense, Flatten,Conv2D\n",
    "from tensorflow.keras.models import Model, Sequential\n",
    "from tensorflow.keras.preprocessing import image\n",
    "from tensorflow.keras.preprocessing.image import ImageDataGenerator,load_img\n",
    "import numpy as np\n",
    "from tensorflow.keras.layers import MaxPooling2D\n",
    "from glob import glob\n",
    "import matplotlib.pyplot as plt"
   ]
  },
  {
   "cell_type": "code",
   "execution_count": 20,
   "metadata": {},
   "outputs": [],
   "source": [
    "train_path = 'dataset/train'\n",
    "test_path = 'dataset/test'\n",
    "valid_path = 'dataset/val'\n",
    "\n",
    "image_size = [256,256]"
   ]
  },
  {
   "cell_type": "code",
   "execution_count": 21,
   "metadata": {},
   "outputs": [
    {
     "data": {
      "text/plain": [
       "['Dataset\\\\test', 'Dataset\\\\train', 'Dataset\\\\val']"
      ]
     },
     "execution_count": 21,
     "metadata": {},
     "output_type": "execute_result"
    }
   ],
   "source": [
    "folders = glob('Dataset/*')\n",
    "folders"
   ]
  },
  {
   "cell_type": "code",
   "execution_count": 23,
   "metadata": {},
   "outputs": [],
   "source": [
    "# Use the Image Data Generator to import the images from the dataset\n",
    "from tensorflow.keras.preprocessing.image import ImageDataGenerator\n",
    "\n",
    "train_data = ImageDataGenerator(rescale = 1./255,\n",
    "                                   shear_range = 0.2,\n",
    "                                   zoom_range = 0.2,\n",
    "                                   horizontal_flip = True)\n",
    "\n",
    "test_data= ImageDataGenerator(rescale = 1./255)\n",
    "val_data= ImageDataGenerator(rescale = 1./255)"
   ]
  },
  {
   "cell_type": "code",
   "execution_count": 24,
   "metadata": {},
   "outputs": [
    {
     "name": "stdout",
     "output_type": "stream",
     "text": [
      "Found 5216 images belonging to 2 classes.\n",
      "Found 624 images belonging to 2 classes.\n",
      "Found 16 images belonging to 2 classes.\n"
     ]
    }
   ],
   "source": [
    "# Make sure you provide the same target size as initialied for the image size\n",
    "train = train_data.flow_from_directory('Dataset/Train',\n",
    "                                                 target_size = (256,256),\n",
    "                                                 batch_size = 32,\n",
    "                                                 class_mode = 'categorical')\n",
    "\n",
    "test = test_data.flow_from_directory('Dataset/Test',\n",
    "                                            target_size = (256,256),\n",
    "                                            batch_size = 32,\n",
    "                                            class_mode = 'categorical')\n",
    "\n",
    "val = val_data.flow_from_directory('Dataset/val',\n",
    "                                            target_size = (256,256),\n",
    "                                            batch_size = 32,\n",
    "                                            class_mode = 'categorical')"
   ]
  },
  {
   "cell_type": "code",
   "execution_count": 25,
   "metadata": {},
   "outputs": [],
   "source": [
    "### Creating CNN model\n",
    "model=Sequential()\n",
    "model.add(Conv2D(filters=16,kernel_size=2,padding=\"same\",activation=\"relu\",input_shape=(256,256,3)))\n",
    "model.add(MaxPooling2D(pool_size=2))\n",
    "model.add(Conv2D(filters=32,kernel_size=2,padding=\"same\",activation =\"relu\"))\n",
    "model.add(MaxPooling2D(pool_size=2))\n",
    "model.add(Conv2D(filters=64,kernel_size=2,padding=\"same\",activation=\"relu\"))\n",
    "model.add(MaxPooling2D(pool_size=2))\n",
    "model.add(Conv2D(filters=128,kernel_size=2,padding=\"same\",activation=\"relu\"))\n",
    "model.add(MaxPooling2D(pool_size=2))\n",
    "model.add(Flatten())\n",
    "model.add(Dense(50,activation=\"relu\"))\n",
    "model.add(Dense(2,activation=\"softmax\"))\n"
   ]
  },
  {
   "cell_type": "code",
   "execution_count": 26,
   "metadata": {},
   "outputs": [
    {
     "name": "stdout",
     "output_type": "stream",
     "text": [
      "Model: \"sequential_1\"\n",
      "_________________________________________________________________\n",
      "Layer (type)                 Output Shape              Param #   \n",
      "=================================================================\n",
      "conv2d_3 (Conv2D)            (None, 256, 256, 16)      208       \n",
      "_________________________________________________________________\n",
      "max_pooling2d_3 (MaxPooling2 (None, 128, 128, 16)      0         \n",
      "_________________________________________________________________\n",
      "conv2d_4 (Conv2D)            (None, 128, 128, 32)      2080      \n",
      "_________________________________________________________________\n",
      "max_pooling2d_4 (MaxPooling2 (None, 64, 64, 32)        0         \n",
      "_________________________________________________________________\n",
      "conv2d_5 (Conv2D)            (None, 64, 64, 64)        8256      \n",
      "_________________________________________________________________\n",
      "max_pooling2d_5 (MaxPooling2 (None, 32, 32, 64)        0         \n",
      "_________________________________________________________________\n",
      "conv2d_6 (Conv2D)            (None, 32, 32, 128)       32896     \n",
      "_________________________________________________________________\n",
      "max_pooling2d_6 (MaxPooling2 (None, 16, 16, 128)       0         \n",
      "_________________________________________________________________\n",
      "flatten_1 (Flatten)          (None, 32768)             0         \n",
      "_________________________________________________________________\n",
      "dense_2 (Dense)              (None, 50)                1638450   \n",
      "_________________________________________________________________\n",
      "dense_3 (Dense)              (None, 2)                 102       \n",
      "=================================================================\n",
      "Total params: 1,681,992\n",
      "Trainable params: 1,681,992\n",
      "Non-trainable params: 0\n",
      "_________________________________________________________________\n"
     ]
    }
   ],
   "source": [
    "model.summary()"
   ]
  },
  {
   "cell_type": "code",
   "execution_count": 27,
   "metadata": {},
   "outputs": [],
   "source": [
    "from tensorflow.keras.callbacks import ModelCheckpoint\n",
    "checkpoint = ModelCheckpoint('C1.h5', monitor='val_loss', verbose=1, save_best_only=True, mode='auto')"
   ]
  },
  {
   "cell_type": "code",
   "execution_count": 28,
   "metadata": {},
   "outputs": [],
   "source": [
    "model.compile(loss='categorical_crossentropy',\n",
    "              optimizer='adam',\n",
    "              metrics=['accuracy'])"
   ]
  },
  {
   "cell_type": "code",
   "execution_count": 30,
   "metadata": {
    "scrolled": true,
    "tags": []
   },
   "outputs": [
    {
     "name": "stdout",
     "output_type": "stream",
     "text": [
      "Epoch 1/20\n",
      "163/163 [==============================] - 351s 2s/step - loss: 0.2685 - accuracy: 0.8892 - val_loss: 0.5458 - val_accuracy: 0.8125\n",
      "Epoch 2/20\n",
      "163/163 [==============================] - 478s 3s/step - loss: 0.2040 - accuracy: 0.9218 - val_loss: 0.5109 - val_accuracy: 0.8590\n",
      "Epoch 3/20\n",
      "163/163 [==============================] - 1157s 7s/step - loss: 0.1770 - accuracy: 0.9342 - val_loss: 0.3770 - val_accuracy: 0.8830\n",
      "Epoch 4/20\n",
      "163/163 [==============================] - 788s 5s/step - loss: 0.1532 - accuracy: 0.9454 - val_loss: 0.8483 - val_accuracy: 0.8558\n",
      "Epoch 5/20\n",
      "163/163 [==============================] - 926s 6s/step - loss: 0.1558 - accuracy: 0.9402 - val_loss: 0.6427 - val_accuracy: 0.8413\n",
      "Epoch 6/20\n",
      "163/163 [==============================] - 893s 5s/step - loss: 0.1296 - accuracy: 0.9517 - val_loss: 0.5509 - val_accuracy: 0.8750\n",
      "Epoch 7/20\n",
      "163/163 [==============================] - 739s 5s/step - loss: 0.1358 - accuracy: 0.9536 - val_loss: 0.6313 - val_accuracy: 0.8782\n",
      "Epoch 8/20\n",
      "163/163 [==============================] - 706s 4s/step - loss: 0.1191 - accuracy: 0.9555 - val_loss: 0.8256 - val_accuracy: 0.8349\n",
      "Epoch 9/20\n",
      "163/163 [==============================] - 710s 4s/step - loss: 0.1315 - accuracy: 0.9513 - val_loss: 0.7073 - val_accuracy: 0.8734\n",
      "Epoch 10/20\n",
      "163/163 [==============================] - 714s 4s/step - loss: 0.1143 - accuracy: 0.9617 - val_loss: 0.4477 - val_accuracy: 0.9119\n",
      "Epoch 11/20\n",
      "163/163 [==============================] - 696s 4s/step - loss: 0.1100 - accuracy: 0.9582 - val_loss: 0.8059 - val_accuracy: 0.8622\n",
      "Epoch 12/20\n",
      "163/163 [==============================] - 660s 4s/step - loss: 0.1154 - accuracy: 0.9569 - val_loss: 0.8913 - val_accuracy: 0.7821\n",
      "Epoch 13/20\n",
      "163/163 [==============================] - 605s 4s/step - loss: 0.1208 - accuracy: 0.9548 - val_loss: 0.8857 - val_accuracy: 0.8253\n",
      "Epoch 14/20\n",
      "163/163 [==============================] - 606s 4s/step - loss: 0.1159 - accuracy: 0.9595 - val_loss: 0.6948 - val_accuracy: 0.8494\n",
      "Epoch 15/20\n",
      "163/163 [==============================] - 607s 4s/step - loss: 0.0994 - accuracy: 0.9607 - val_loss: 0.5947 - val_accuracy: 0.9151\n",
      "Epoch 16/20\n",
      "163/163 [==============================] - 607s 4s/step - loss: 0.1066 - accuracy: 0.9617 - val_loss: 0.5505 - val_accuracy: 0.8878\n",
      "Epoch 17/20\n",
      "163/163 [==============================] - 603s 4s/step - loss: 0.0991 - accuracy: 0.9643 - val_loss: 0.4823 - val_accuracy: 0.8798\n",
      "Epoch 18/20\n",
      "163/163 [==============================] - 605s 4s/step - loss: 0.0889 - accuracy: 0.9674 - val_loss: 1.0143 - val_accuracy: 0.7933\n",
      "Epoch 19/20\n",
      "163/163 [==============================] - 605s 4s/step - loss: 0.0974 - accuracy: 0.9613 - val_loss: 0.6005 - val_accuracy: 0.8974\n",
      "Epoch 20/20\n",
      "163/163 [==============================] - 610s 4s/step - loss: 0.0953 - accuracy: 0.9655 - val_loss: 0.4235 - val_accuracy: 0.9006\n"
     ]
    }
   ],
   "source": [
    "outcome = model.fit(train, validation_data = test, epochs = 20, steps_per_epoch=len(train),  validation_steps=len(test))"
   ]
  },
  {
   "cell_type": "code",
   "execution_count": 31,
   "metadata": {},
   "outputs": [
    {
     "data": {
      "image/png": "[encoded data removed]",
      "text/plain": [
       "<Figure size 432x288 with 1 Axes>"
      ]
     },
     "metadata": {
      "needs_background": "light"
     },
     "output_type": "display_data"
    },
    {
     "data": {
      "image/png": "[encoded data removed]",
      "text/plain": [
       "<Figure size 432x288 with 1 Axes>"
      ]
     },
     "metadata": {
      "needs_background": "light"
     },
     "output_type": "display_data"
    },
    {
     "data": {
      "text/plain": [
       "<Figure size 432x288 with 0 Axes>"
      ]
     },
     "metadata": {},
     "output_type": "display_data"
    }
   ],
   "source": [
    "# plot the loss\n",
    "plt.plot(outcome.history['loss'], label='train loss')\n",
    "plt.plot(outcome.history['val_loss'], label='val loss')\n",
    "plt.legend()\n",
    "plt.show()\n",
    "plt.savefig('LossVal_loss')\n",
    "\n",
    "# plot the accuracy\n",
    "plt.plot(outcome.history['accuracy'], label='train acc')\n",
    "plt.plot(outcome.history['val_accuracy'], label='val acc')\n",
    "plt.legend()\n",
    "plt.show()\n",
    "plt.savefig('AccVal_acc')"
   ]
  },
  {
   "cell_type": "code",
   "execution_count": 35,
   "metadata": {},
   "outputs": [
    {
     "name": "stdout",
     "output_type": "stream",
     "text": [
      "1/1 [==============================] - 1s 1s/step - loss: 0.0651 - accuracy: 1.0000\n"
     ]
    },
    {
     "data": {
      "text/plain": [
       "[0.06514778733253479, 1.0]"
      ]
     },
     "execution_count": 35,
     "metadata": {},
     "output_type": "execute_result"
    }
   ],
   "source": [
    "model.evaluate(val)"
   ]
  },
  {
   "cell_type": "code",
   "execution_count": 37,
   "metadata": {},
   "outputs": [],
   "source": [
    "# saving the model as h5 file\n",
    "import tensorflow as tf\n",
    "from keras.models import load_model\n",
    "model.save('chest_xray_cnn.h5')"
   ]
  },
  {
   "cell_type": "code",
   "execution_count": null,
   "metadata": {},
   "outputs": [],
   "source": []
  }
 ],
 "metadata": {
  "kernelspec": {
   "display_name": "Python 3",
   "language": "python",
   "name": "python3"
  },
  "language_info": {
   "codemirror_mode": {
    "name": "ipython",
    "version": 3
   },
   "file_extension": ".py",
   "mimetype": "text/x-python",
   "name": "python",
   "nbconvert_exporter": "python",
   "pygments_lexer": "ipython3",
   "version": "3.8.5"
  }
 },
 "nbformat": 4,
 "nbformat_minor": 4
}
